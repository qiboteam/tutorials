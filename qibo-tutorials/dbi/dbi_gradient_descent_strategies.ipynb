{
 "cells": [
  {
   "cell_type": "markdown",
   "metadata": {},
   "source": [
    "# Double-bracket Gradient Descent Stratgies\n",
    "This notebook demonstrates the gradient descent strategies for double-bracket rotations. The mehods uses a numerical method to find the gradient of the cost function with respect to the diagonal operator, and thereby variate the diagonal operator of the rotation. \n",
    "\n",
    "Finding the gradient requires the parameterization of the diagonal operator, and there are two ways of doing so:\n",
    "\n",
    "1. Pauli-basis: $D(B,J)= \\sum B_i Z_i + \\sum J_{ij}Z_iZ_j + ...$\n",
    "2. Computational-basis: $D(A)=\\sum A_i|i\\rangle\\langle i|$"
   ]
  },
  {
   "cell_type": "code",
   "execution_count": null,
   "metadata": {},
   "outputs": [],
   "source": [
    "from qibo.models.dbi.double_bracket import DoubleBracketIteration, DoubleBracketGeneratorType, DoubleBracketScheduling, DoubleBracketCostFunction\n",
    "from qibo.models.dbi.utils import generate_pauli_operator_dict, decompose_into_pauli_basis, params_to_diagonal_operator, ParameterizationTypes\n",
    "from copy import deepcopy\n",
    "from qibo.models.dbi.utils_dbr_strategies import gradient_descent\n",
    "import numpy as np\n",
    "from qibo import set_backend, hamiltonians\n",
    "from qibo.hamiltonians import Hamiltonian\n",
    "from qibo.quantum_info import random_hermitian\n",
    "import matplotlib.pyplot as plt"
   ]
  },
  {
   "cell_type": "code",
   "execution_count": null,
   "metadata": {},
   "outputs": [],
   "source": [
    "def visualize_matrix(matrix, title=\"\"):\n",
    "    \"\"\"Visualize hamiltonian in a heatmap form.\"\"\"\n",
    "    fig, ax = plt.subplots(figsize=(5,5))\n",
    "    ax.set_title(title)\n",
    "    try:\n",
    "        im = ax.imshow(np.absolute(matrix), cmap=\"inferno\")\n",
    "    except TypeError:\n",
    "        im = ax.imshow(np.absolute(matrix.get()), cmap=\"inferno\")\n",
    "    fig.colorbar(im, ax=ax)\n",
    "\n",
    "def s_hist_to_plot(s_hist):\n",
    "    # convert list of step durations taken to plotable\n",
    "    s_plot = [0] * len(s_hist)\n",
    "    for i in range(len(s_hist)):\n",
    "        if i != 0:\n",
    "            s_plot[i] = s_plot[i-1] + s_hist[i]\n",
    "    return s_plot"
   ]
  },
  {
   "cell_type": "markdown",
   "metadata": {},
   "source": [
    "# Random Hamiltonian"
   ]
  },
  {
   "cell_type": "code",
   "execution_count": null,
   "metadata": {},
   "outputs": [],
   "source": [
    "# set the qibo backend (we suggest qibojit if N >= 20)\n",
    "set_backend(\"qibojit\", platform=\"numba\")\n",
    "\n",
    "# hamiltonian parameters\n",
    "nqubits = 5\n",
    "seed = 10\n",
    "\n",
    "# define the hamiltonian\n",
    "h0 = random_hermitian(2**nqubits, seed=seed)\n",
    "dbi = DoubleBracketIteration(\n",
    "    Hamiltonian(nqubits, h0),\n",
    "    mode=DoubleBracketGeneratorType.single_commutator,\n",
    "    scheduling=DoubleBracketScheduling.hyperopt,\n",
    "    cost=DoubleBracketCostFunction.off_diagonal_norm\n",
    ")\n",
    "# vosualize the matrix\n",
    "visualize_matrix(dbi.h.matrix, title=\"Target hamiltonian\")"
   ]
  },
  {
   "cell_type": "markdown",
   "metadata": {},
   "source": [
    "Then we set up the required parameters for gradient descent."
   ]
  },
  {
   "cell_type": "code",
   "execution_count": null,
   "metadata": {},
   "outputs": [],
   "source": [
    "# Pauli-basis\n",
    "pauli_operator_dict = generate_pauli_operator_dict(nqubits)\n",
    "pauli_operators = list(pauli_operator_dict.values())\n",
    "# let initial d be approximation of $\\Delta(H)\n",
    "d_coef_pauli = decompose_into_pauli_basis(dbi.diagonal_h_matrix, pauli_operators=pauli_operators)\n",
    "d_pauli = sum([d_coef_pauli[i]*pauli_operators[i] for i in range(nqubits)])\n",
    "\n",
    "# Computational basis\n",
    "d_coef_computational_partial = d_pauli.diagonal()\n",
    "d_coef_computational_full = dbi.diagonal_h_matrix.diagonal()\n",
    "d_computational_partial = params_to_diagonal_operator(d_coef_computational_partial, nqubits, ParameterizationTypes.computational, normalize=False)\n",
    "d_computational_full = params_to_diagonal_operator(d_coef_computational_full, nqubits, ParameterizationTypes.computational, normalize=False)\n",
    "\n",
    "plt.plot(d_coef_computational_partial, label=\"computational basis partial\")\n",
    "plt.plot(d_coef_computational_full, label=r\"computational basis full = $\\Delta(H)$\")\n",
    "plt.legend()\n",
    "plt.title(r\"Diagonal entries of $D$\")\n"
   ]
  },
  {
   "cell_type": "markdown",
   "metadata": {},
   "source": [
    "Now we want to compare 3 scenarios:\n",
    "\n",
    "1. Pauli-basis: an approximation to the diagonal of $H$\n",
    "2. Computational-partial: same as 1. in the computational basis.\n",
    "3. Computational-full: a full parameterization of the diagonal of $H$ in the computational basis."
   ]
  },
  {
   "cell_type": "code",
   "execution_count": null,
   "metadata": {},
   "outputs": [],
   "source": [
    "# 1. Pauli-basis\n",
    "NSTEPS = 5\n",
    "dbi_pauli = deepcopy(dbi)\n",
    "loss_hist_pauli, d_params_hist_pauli, s_hist_pauli = gradient_descent(dbi_pauli, NSTEPS, d_coef_pauli, ParameterizationTypes.pauli, pauli_operator_dict=pauli_operator_dict)"
   ]
  },
  {
   "cell_type": "code",
   "execution_count": null,
   "metadata": {},
   "outputs": [],
   "source": [
    "# 2. Computational_partial\n",
    "dbi_computational_partial = deepcopy(dbi)\n",
    "loss_hist_computational_partial, d_params_hist_computational_partiali, s_computational_partial = gradient_descent(dbi_computational_partial, NSTEPS, d_coef_computational_partial, ParameterizationTypes.computational)"
   ]
  },
  {
   "cell_type": "code",
   "execution_count": null,
   "metadata": {},
   "outputs": [],
   "source": [
    "# 3. Computational_full\n",
    "dbi_computational_full = deepcopy(dbi)\n",
    "loss_hist_computational_full, d_params_hist_computational_full, s_computational_full = gradient_descent(dbi_computational_full, NSTEPS, d_coef_computational_full, ParameterizationTypes.computational)"
   ]
  },
  {
   "cell_type": "code",
   "execution_count": null,
   "metadata": {},
   "outputs": [],
   "source": [
    "s_plot_pauli = s_hist_to_plot(s_hist_pauli)\n",
    "s_plot_computational_partial = s_hist_to_plot(s_computational_partial)\n",
    "s_plot_computational_full = s_hist_to_plot(s_computational_full)"
   ]
  },
  {
   "cell_type": "code",
   "execution_count": null,
   "metadata": {},
   "outputs": [],
   "source": [
    "plt.plot(s_plot_pauli, loss_hist_pauli, label=\"pauli basis\", marker=\"o\")\n",
    "plt.plot(s_plot_computational_partial, loss_hist_computational_partial, label=\"computational partial\", marker=\"o\")\n",
    "plt.plot(s_plot_computational_full, loss_hist_computational_full, label=\"computational full\", marker=\"o\")\n",
    "plt.legend()\n",
    "plt.title(\"Off-diagonal norm\")\n",
    "plt.ylabel(r\"$||\\sigma(H)||_{HS}$\")\n",
    "plt.xlabel(\"s\")\n"
   ]
  },
  {
   "cell_type": "markdown",
   "metadata": {},
   "source": [
    "# TFIM"
   ]
  },
  {
   "cell_type": "code",
   "execution_count": null,
   "metadata": {},
   "outputs": [],
   "source": [
    "# hamiltonian parameters\n",
    "nqubits = 5\n",
    "h = 3\n",
    "\n",
    "# define the hamiltonian\n",
    "h = hamiltonians.TFIM(nqubits=nqubits, h=h)\n",
    "dbi = DoubleBracketIteration(\n",
    "    h,\n",
    "    mode=DoubleBracketGeneratorType.single_commutator,\n",
    "    scheduling=DoubleBracketScheduling.hyperopt\n",
    ")\n",
    "# vosualize the matrix\n",
    "visualize_matrix(dbi.h.matrix, title=\"Target hamiltonian\")"
   ]
  },
  {
   "cell_type": "code",
   "execution_count": null,
   "metadata": {},
   "outputs": [],
   "source": [
    "# Pauli-basis\n",
    "pauli_operator_dict = generate_pauli_operator_dict(nqubits)\n",
    "pauli_operators = list(pauli_operator_dict.values())\n",
    "# let initial d be approximation of $\\Delta(H)\n",
    "d_coef_pauli = decompose_into_pauli_basis(dbi.diagonal_h_matrix, pauli_operators=pauli_operators)\n",
    "d_pauli = sum([d_coef_pauli[i]*pauli_operators[i] for i in range(nqubits)])\n",
    "\n",
    "# Computational basis\n",
    "d_coef_computational_partial = d_pauli.diagonal()\n",
    "d_coef_computational_full = dbi.diagonal_h_matrix.diagonal()\n",
    "d_computational_partial = params_to_diagonal_operator(d_coef_computational_partial, nqubits, ParameterizationTypes.computational, normalize=False)\n",
    "d_computational_full = params_to_diagonal_operator(d_coef_computational_full, nqubits, ParameterizationTypes.computational, normalize=False)\n",
    "\n",
    "plt.plot(d_coef_computational_partial, label=\"computational basis partial\")\n",
    "plt.plot(d_coef_computational_full, label=r\"computational basis full = $\\Delta(H)$\")\n",
    "plt.legend()\n",
    "plt.title(r\"Diagonal entries of $D$\")\n"
   ]
  },
  {
   "cell_type": "code",
   "execution_count": null,
   "metadata": {},
   "outputs": [],
   "source": [
    "# 1. Pauli-basis\n",
    "NSTEPS = 3\n",
    "dbi_pauli = deepcopy(dbi)\n",
    "loss_hist_pauli, d_params_hist_pauli, s_hist_pauli = gradient_descent(dbi_pauli, NSTEPS, d_coef_pauli, ParameterizationTypes.pauli, pauli_operator_dict=pauli_operator_dict)"
   ]
  },
  {
   "cell_type": "code",
   "execution_count": null,
   "metadata": {},
   "outputs": [],
   "source": [
    "# 2. Computational_partial\n",
    "dbi_computational_partial = deepcopy(dbi)\n",
    "loss_hist_computational_partial, d_params_hist_computational_partiali, s_computational_partial = gradient_descent(dbi_computational_partial, NSTEPS, d_coef_computational_partial, ParameterizationTypes.computational)"
   ]
  },
  {
   "cell_type": "code",
   "execution_count": null,
   "metadata": {},
   "outputs": [],
   "source": [
    "# 3. Computational_full\n",
    "dbi_computational_full = deepcopy(dbi)\n",
    "loss_hist_computational_full, d_params_hist_computational_full, s_computational_full = gradient_descent(dbi_computational_full, NSTEPS, d_coef_computational_full, ParameterizationTypes.computational)"
   ]
  },
  {
   "cell_type": "code",
   "execution_count": null,
   "metadata": {},
   "outputs": [],
   "source": [
    "s_plot_pauli = s_hist_to_plot(s_hist_pauli)\n",
    "s_plot_computational_partial = s_hist_to_plot(s_computational_partial)\n",
    "s_plot_computational_full = s_hist_to_plot(s_computational_full)"
   ]
  },
  {
   "cell_type": "code",
   "execution_count": null,
   "metadata": {},
   "outputs": [],
   "source": [
    "plt.plot(s_plot_pauli, loss_hist_pauli, label=\"pauli basis\", marker=\"o\")\n",
    "plt.plot(s_plot_computational_partial, loss_hist_computational_partial, label=\"computational partial\", marker=\"o\")\n",
    "plt.plot(s_plot_computational_full, loss_hist_computational_full, label=\"computational full\", marker=\"o\")\n",
    "plt.legend()\n",
    "plt.title(\"Off-diagonal norm\")\n",
    "plt.ylabel(r\"$||\\sigma(H)||_{HS}$\")\n",
    "plt.xlabel(\"s\")\n"
   ]
  },
  {
   "cell_type": "markdown",
   "metadata": {},
   "source": [
    "After changing the cost function and scheduling method, we notice that quite consistently, the Pauli-based parameterization diagonalizes the hamiltonian the best, and for the first few iterations, the Computational-based partial (same initial operator as Pauli) performs very similarly, and diverges later on."
   ]
  },
  {
   "cell_type": "code",
   "execution_count": null,
   "metadata": {},
   "outputs": [],
   "source": [
    "nqubits = 3\n",
    "pauli_operator_dict = generate_pauli_operator_dict(\n",
    "    nqubits, parameterization_order=1\n",
    ")\n",
    "params = [1, 2, 3]\n",
    "operator_pauli = sum([\n",
    "    params[i] * list(pauli_operator_dict.values())[i] for i in range(nqubits)\n",
    "])\n",
    "assert (\n",
    "    operator_pauli\n",
    "    == params_to_diagonal_operator(\n",
    "        params, nqubits=nqubits, parameterization=ParameterizationTypes.pauli, pauli_operator_dict=pauli_operator_dict\n",
    "    )\n",
    ").all()\n",
    "operator_element = params_to_diagonal_operator(\n",
    "    params, nqubits=nqubits, parameterization=ParameterizationTypes.computational\n",
    ")\n",
    "assert (operator_element.diagonal() == params).all()"
   ]
  }
 ],
 "metadata": {},
 "nbformat": 4,
 "nbformat_minor": 4
}
