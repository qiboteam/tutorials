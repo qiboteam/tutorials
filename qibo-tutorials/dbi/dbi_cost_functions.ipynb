{
 "cells": [
  {
   "cell_type": "markdown",
   "metadata": {},
   "source": [
    "# Double-bracket Iteration other cost functions\n",
    "\n",
    "This notebook presents two additional cost functions for the double-bracket flow: least-squares and energy fluctuation with their respectice scheduling methods."
   ]
  },
  {
   "cell_type": "code",
   "execution_count": null,
   "metadata": {},
   "outputs": [],
   "source": [
    "from copy import deepcopy\n",
    "\n",
    "import numpy as np\n",
    "import matplotlib.pyplot as plt\n",
    "\n",
    "from qibo import hamiltonians, set_backend\n",
    "from qibo.models.dbi.double_bracket import DoubleBracketGeneratorType, DoubleBracketScheduling, DoubleBracketIteration, DoubleBracketCostFunction"
   ]
  },
  {
   "cell_type": "markdown",
   "metadata": {},
   "source": [
    "### Least-squares\n",
    "\n",
    "The cost function is defined as: $\\frac{1}{2}||D-H_k||^2 =\\frac{1}{2}(||D||^2+||H||^2) -Tr(D H_k)$ as in (the negative of https://epubs.siam.org/doi/abs/10.1137/S0036141092229732?journalCode=sjmael) We seek to minimize this function at each DBF iteration. For numerical optimizations, we also ignore the norm of H term as for a given hamiltonian it is fixed through out the flow.\n"
   ]
  },
  {
   "cell_type": "code",
   "execution_count": null,
   "metadata": {},
   "outputs": [],
   "source": [
    "# Hamiltonian\n",
    "set_backend(\"numpy\")\n",
    "\n",
    "# hamiltonian parameters\n",
    "nqubits = 5\n",
    "h = 3.0\n",
    "\n",
    "# define the hamiltonian\n",
    "H_TFIM = hamiltonians.TFIM(nqubits=nqubits, h=h)\n",
    "\n",
    "# define the least-squares cost function\n",
    "cost = DoubleBracketCostFunction.least_squares\n",
    "# initialize class\n",
    "dbi = DoubleBracketIteration(deepcopy(H_TFIM),mode=DoubleBracketGeneratorType.single_commutator,cost=cost)\n"
   ]
  },
  {
   "cell_type": "code",
   "execution_count": null,
   "metadata": {},
   "outputs": [],
   "source": [
    "# generate data for plotting sigma decrease of the first step\n",
    "d = np.diag(np.linspace(1,2**nqubits,2**nqubits))/2**nqubits\n",
    "s_space = np.linspace(1e-5, 1.0, 500)\n",
    "off_diagonal_norm_diff = []\n",
    "potential = []\n",
    "for s in s_space:\n",
    "    dbi_eval = deepcopy(dbi)\n",
    "    dbi_eval(s,d=d)\n",
    "    off_diagonal_norm_diff.append(dbi_eval.off_diagonal_norm - dbi.off_diagonal_norm)\n",
    "    potential.append(dbi_eval.least_squares(d=d))\n",
    "\n",
    "# grid_search\n",
    "step_grid = dbi.choose_step(scheduling=DoubleBracketScheduling.grid_search,d=d)\n",
    "print('grid_search step:', step_grid)\n",
    "# hyperopt\n",
    "step_hyperopt = dbi.choose_step(scheduling=DoubleBracketScheduling.hyperopt,d=d, max_evals=100, step_max=0.6)\n",
    "print('hyperopt_search step:', step_hyperopt)\n",
    "# polynomial\n",
    "step_poly = dbi.choose_step(scheduling=DoubleBracketScheduling.polynomial_approximation,d=d, n=3)\n",
    "print('polynomial_approximation step:', step_poly)"
   ]
  },
  {
   "cell_type": "code",
   "execution_count": null,
   "metadata": {},
   "outputs": [],
   "source": [
    "# Plot the results\n",
    "plt.figure()\n",
    "plt.plot(s_space, potential)\n",
    "plt.xlabel('s')\n",
    "plt.axvline(x=step_grid, color='r', linestyle='-',label='grid_search')\n",
    "plt.axvline(x=step_hyperopt, color='g', linestyle='--',label='hyperopt')\n",
    "plt.axvline(x=step_poly, color='m', linestyle='-.',label='polynomial')\n",
    "plt.title('First DBI step')\n",
    "plt.ylabel('Least squares cost function')\n",
    "plt.legend()\n",
    "plt.figure()\n",
    "plt.plot(s_space, off_diagonal_norm_diff)\n",
    "plt.axvline(x=step_grid, color='r', linestyle='-',label='grid_search')\n",
    "plt.axvline(x=step_hyperopt, color='g', linestyle='--',label='hyperopt')\n",
    "plt.axvline(x=step_poly, color='m', linestyle='-.',label='polynomial')\n",
    "plt.ylabel(r'$||\\sigma(H_0)||-\\sigma(H_k)||$')\n",
    "plt.xlabel('s')\n",
    "plt.title('First DBI step')\n",
    "plt.legend()\n",
    "print('The minimum for cost function in the tested range is:', step_grid)"
   ]
  },
  {
   "cell_type": "markdown",
   "metadata": {},
   "source": [
    "Comparison of the least-squares cost function with the original cost function using the polynomial scheduling method"
   ]
  },
  {
   "cell_type": "code",
   "execution_count": null,
   "metadata": {},
   "outputs": [],
   "source": [
    "d = np.diag(np.linspace(1,2**nqubits,2**nqubits))\n",
    "off_diagonal_norm_diff = [dbi.off_diagonal_norm]\n",
    "off_diagonal_norm_diff_least_squares = [dbi.off_diagonal_norm]\n",
    "iters = 100\n",
    "dbi_ls = deepcopy(dbi)\n",
    "cost = DoubleBracketCostFunction.off_diagonal_norm\n",
    "dbi_od = DoubleBracketIteration(deepcopy(H_TFIM),mode=DoubleBracketGeneratorType.single_commutator,cost=cost)\n",
    "for _ in range(iters):\n",
    "    step_poly = dbi_od.choose_step(scheduling=DoubleBracketScheduling.polynomial_approximation, d=d, n=3)\n",
    "    dbi_od(step_poly,d=d)\n",
    "    step_poly = dbi_ls.choose_step(scheduling=DoubleBracketScheduling.polynomial_approximation, d=d, n=3)\n",
    "    dbi_ls(step_poly,d=d)\n",
    "    off_diagonal_norm_diff.append(dbi_od.off_diagonal_norm)\n",
    "    off_diagonal_norm_diff_least_squares.append(dbi_ls.off_diagonal_norm)"
   ]
  },
  {
   "cell_type": "code",
   "execution_count": null,
   "metadata": {},
   "outputs": [],
   "source": [
    "plt.figure()\n",
    "plt.plot(range(iters+1), off_diagonal_norm_diff, label=r'Off-diagonal norm')\n",
    "plt.plot(range(iters+1), off_diagonal_norm_diff_least_squares, label=r'Least squares')\n",
    "plt.xlabel('Iterations')\n",
    "plt.ylabel(r'$||\\sigma(H_k)||$')\n",
    "plt.legend()\n"
   ]
  },
  {
   "cell_type": "markdown",
   "metadata": {},
   "source": [
    "### Energy fluctuation\n",
    "\n",
    "This cost function is defined as: $\\Xi_k^2 (\\mu) = \\langle \\mu | H_k^2| \\mu \\rangle - \\langle \\mu | H_k| \\mu \\rangle^2$. We must specify the state $| \\mu \\rangle$ for which we want to minimize the fluctuation. The overall diagonalization isn't guaranteed.\n"
   ]
  },
  {
   "cell_type": "code",
   "execution_count": null,
   "metadata": {},
   "outputs": [],
   "source": [
    "# Hamiltonian\n",
    "set_backend(\"numpy\")\n",
    "\n",
    "# hamiltonian parameters\n",
    "nqubits = 3\n",
    "h = 3.0\n",
    "\n",
    "# define the hamiltonian\n",
    "H_TFIM = hamiltonians.TFIM(nqubits=nqubits, h=h)\n",
    "\n",
    "# define the energy fluctuation cost function\n",
    "cost = DoubleBracketCostFunction.off_diagonal_norm\n",
    "# define the state\n",
    "state = np.zeros(2**nqubits)\n",
    "state[3] = 1\n",
    "# initialize class\n",
    "dbi = DoubleBracketIteration(deepcopy(H_TFIM),mode=DoubleBracketGeneratorType.single_commutator,cost=cost, ref_state=state)"
   ]
  },
  {
   "cell_type": "code",
   "execution_count": null,
   "metadata": {},
   "outputs": [],
   "source": [
    "# generate data for plotting sigma decrease of the first step\n",
    "d = np.diag(np.linspace(2**nqubits,1,2**nqubits))/2**nqubits\n",
    "s_space = np.linspace(-1, 1, 1000)\n",
    "off_diagonal_norm_diff = []\n",
    "fluctuation = []\n",
    "for s in s_space:\n",
    "    dbi_eval = deepcopy(dbi)\n",
    "    dbi_eval(s,d=d)\n",
    "    off_diagonal_norm_diff.append(dbi_eval.off_diagonal_norm - dbi.off_diagonal_norm)\n",
    "    fluctuation.append(dbi_eval.energy_fluctuation(state=state))\n",
    "\n",
    "# grid_search\n",
    "step_grid = dbi.choose_step(scheduling=DoubleBracketScheduling.grid_search,d=d)\n",
    "print('grid_search step:', step_grid)\n",
    "# hyperopt\n",
    "step_hyperopt = dbi.choose_step(scheduling=DoubleBracketScheduling.hyperopt,d=d, max_evals=100, step_max=0.6)\n",
    "print('hyperopt_search step:', step_hyperopt)\n",
    "# polynomial\n",
    "step_poly = dbi.choose_step(scheduling=DoubleBracketScheduling.polynomial_approximation,d=d, n=3)\n",
    "print('polynomial_approximation step:', step_poly)\n"
   ]
  },
  {
   "cell_type": "code",
   "execution_count": null,
   "metadata": {},
   "outputs": [],
   "source": [
    "# Plot the results\n",
    "plt.figure()\n",
    "plt.plot(s_space, fluctuation)\n",
    "plt.xlabel('s')\n",
    "plt.axvline(x=step_grid, color='r', linestyle='-',label='grid_search')\n",
    "plt.axvline(x=step_hyperopt, color='g', linestyle='--',label ='hyperopt')\n",
    "plt.axvline(x=step_poly, color='m', linestyle='-.',label='polynomial')\n",
    "plt.title('First DBI step')\n",
    "plt.ylabel('Energy fluctuation')\n",
    "plt.legend()\n",
    "plt.figure()\n",
    "plt.plot(s_space, off_diagonal_norm_diff)\n",
    "plt.axvline(x=step_grid, color='r', linestyle='-',label='grid_search')\n",
    "plt.axvline(x=step_hyperopt, color='g', linestyle='--',label='hyperopt')\n",
    "plt.axvline(x=step_poly, color='m', linestyle='-.',label='polynomial')\n",
    "plt.ylabel(r'$||\\sigma(H_0)||-\\sigma(H_k)||$')\n",
    "plt.xlabel('s')\n",
    "plt.title('First DBI step')\n",
    "plt.legend()\n",
    "print('The minimum for cost function in the tested range is:', step_grid)"
   ]
  },
  {
   "cell_type": "code",
   "execution_count": null,
   "metadata": {},
   "outputs": [],
   "source": [
    "d = np.diag(np.linspace(1,2**nqubits,2**nqubits))\n",
    "off_diagonal_norm_diff = [dbi.off_diagonal_norm]\n",
    "energy_fluc = [dbi.energy_fluctuation(state=state)]\n",
    "iters = 10\n",
    "dbi_ = deepcopy(dbi)\n",
    "for _ in range(iters):\n",
    "    step_poly = dbi_.choose_step(scheduling=DoubleBracketScheduling.polynomial_approximation, d=d, n=3)\n",
    "    dbi_(step_poly,d=d)\n",
    "    off_diagonal_norm_diff.append(dbi_.off_diagonal_norm)\n",
    "    energy_fluc.append(dbi_.energy_fluctuation(state=state))"
   ]
  },
  {
   "cell_type": "code",
   "execution_count": null,
   "metadata": {},
   "outputs": [],
   "source": [
    "plt.figure()\n",
    "plt.plot(range(iters+1), off_diagonal_norm_diff)\n",
    "plt.xlabel('Iterations')\n",
    "plt.ylabel(r'$||\\sigma(H_k)||$')\n",
    "\n",
    "plt.figure()\n",
    "plt.plot(range(iters+1), energy_fluc)\n",
    "plt.xlabel('Iterations')\n",
    "plt.ylabel(r'Energy fluctuation')\n"
   ]
  },
  {
   "cell_type": "code",
   "execution_count": null,
   "metadata": {},
   "outputs": [],
   "source": [
    "iters = 30\n",
    "states = [0,1,2,3,4,5,6,7]\n",
    "energy = np.empty((len(states),iters))\n",
    "\n",
    "\n",
    "d = (np.diag(np.linspace(1,2**nqubits,2**nqubits)))\n",
    "for i in range(len(states)):\n",
    "    dbi_ = deepcopy(dbi)\n",
    "    dbi_.state = states[i]\n",
    "    for j in range(iters):\n",
    "        step_poly = dbi_.choose_step(scheduling=DoubleBracketScheduling.polynomial_approximation, d=d, n=3)\n",
    "        if step_poly is not None:\n",
    "            dbi_(step_poly, d=d)\n",
    "        energy[i,j] = np.real(dbi_.h.matrix[states[i],states[i]])\n"
   ]
  },
  {
   "cell_type": "code",
   "execution_count": null,
   "metadata": {},
   "outputs": [],
   "source": [
    "eigvals = np.linalg.eigh(dbi_.h.matrix)[0]\n",
    "print('Eigenvalues:', eigvals )\n",
    "plt.figure()\n",
    "for i in range(len(states)):\n",
    "    plt.plot(range(iters), energy[i,:],'.', label='State ' + str(states[i]))\n",
    "for eigvals in eigvals:\n",
    "    plt.axhline(y=eigvals, color='r', linestyle='--')\n",
    "plt.xlabel('Iterations')\n"
   ]
  },
  {
   "cell_type": "code",
   "execution_count": null,
   "metadata": {},
   "outputs": [],
   "source": []
  }
 ],
 "metadata": {
  "kernelspec": {
   "display_name": "test_qibo",
   "language": "python",
   "name": "python3"
  },
  "language_info": {
   "codemirror_mode": {
    "name": "ipython",
    "version": 3
   },
   "file_extension": ".py",
   "mimetype": "text/x-python",
   "name": "python",
   "nbconvert_exporter": "python",
   "pygments_lexer": "ipython3",
   "version": "3.11.4"
  }
 },
 "nbformat": 4,
 "nbformat_minor": 4
}
