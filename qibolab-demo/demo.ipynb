{
 "cells": [
  {
   "cell_type": "code",
   "execution_count": 16,
   "metadata": {},
   "outputs": [],
   "source": [
    "import os\n",
    "import numpy as np\n",
    "\n",
    "from pathlib import Path\n",
    "from qibolab import create_platform, ExecutionParameters, AcquisitionType, AveragingMode\n",
    "from qibolab.pulses import PulseSequence\n",
    "from qibolab.sweeper import Sweeper, Parameter, SweeperType\n",
    "\n",
    "os.environ[\"QIBOLAB_PLATFORMS\"] = str(Path.cwd() / \"platforms\")"
   ]
  },
  {
   "cell_type": "code",
   "execution_count": 11,
   "metadata": {},
   "outputs": [
    {
     "name": "stderr",
     "output_type": "stream",
     "text": [
      "[Qibo 0.2.4|INFO|2024-02-05 16:24:38]: Loading platform myplatform\n"
     ]
    },
    {
     "data": {
      "text/plain": [
       "Platform(name='myplatform', qubits={0: Qubit(name=0, bare_resonator_frequency=0, readout_frequency=7000000000, drive_frequency=4500000000, anharmonicity=0, sweetspot=0.0, asymmetry=0.0, crosstalk_matrix={}, Ec=0.0, Ej=0.0, g=0.0, assignment_fidelity=0.0, readout_fidelity=0.0, effective_temperature=0.0, peak_voltage=0, pi_pulse_amplitude=0, T1=0, T2=0, T2_spin_echo=0, state0_voltage=0, state1_voltage=0, mean_gnd_states=[0, 0], mean_exc_states=[0, 0], threshold=None, iq_angle=0.0, mixer_drive_g=0.0, mixer_drive_phi=0.0, mixer_readout_g=0.0, mixer_readout_phi=0.0, readout=Channel(name='readout', port=DummyPort(name='o1', offset=0.0, lo_frequency=0, lo_power=0, gain=0, attenuation=0, power_range=0, filters=None), local_oscillator=None, max_offset=None), feedback=Channel(name='feedback', port=DummyPort(name='i1', offset=0.0, lo_frequency=0, lo_power=0, gain=0, attenuation=0, power_range=0, filters=None), local_oscillator=None, max_offset=None), twpa=None, drive=Channel(name='drive', port=DummyPort(name='o2', offset=0.0, lo_frequency=0, lo_power=0, gain=0, attenuation=0, power_range=0, filters=None), local_oscillator=None, max_offset=None), _flux=None, native_gates=SingleQubitNatives(RX=NativePulse(name='RX', duration=40, amplitude=0.005, shape='Rectangular()', pulse_type=<PulseType.DRIVE: 'qd'>, qubit=..., frequency=4500000000, relative_start=0, if_frequency=None, start=0, phase=0), RX12=None, MZ=NativePulse(name='MZ', duration=1000, amplitude=0.005, shape='Rectangular()', pulse_type=<PulseType.READOUT: 'ro'>, qubit=..., frequency=7000000000, relative_start=0, if_frequency=None, start=0, phase=0)))}, pairs={}, instruments={'myinstr': <qibolab.instruments.dummy.DummyInstrument object at 0x747d589f7f50>}, settings=Settings(nshots=1024, relaxation_time=100000), resonator_type='3D', couplers={}, is_connected=False, topology=<networkx.classes.graph.Graph object at 0x747d60091250>)"
      ]
     },
     "execution_count": 11,
     "metadata": {},
     "output_type": "execute_result"
    }
   ],
   "source": [
    "platform = create_platform(\"myplatform\")\n",
    "platform"
   ]
  },
  {
   "cell_type": "code",
   "execution_count": 12,
   "metadata": {},
   "outputs": [
    {
     "data": {
      "text/plain": [
       "Qubit(name=0, bare_resonator_frequency=0, readout_frequency=7000000000, drive_frequency=4500000000, anharmonicity=0, sweetspot=0.0, asymmetry=0.0, crosstalk_matrix={}, Ec=0.0, Ej=0.0, g=0.0, assignment_fidelity=0.0, readout_fidelity=0.0, effective_temperature=0.0, peak_voltage=0, pi_pulse_amplitude=0, T1=0, T2=0, T2_spin_echo=0, state0_voltage=0, state1_voltage=0, mean_gnd_states=[0, 0], mean_exc_states=[0, 0], threshold=None, iq_angle=0.0, mixer_drive_g=0.0, mixer_drive_phi=0.0, mixer_readout_g=0.0, mixer_readout_phi=0.0, readout=Channel(name='readout', port=DummyPort(name='o1', offset=0.0, lo_frequency=0, lo_power=0, gain=0, attenuation=0, power_range=0, filters=None), local_oscillator=None, max_offset=None), feedback=Channel(name='feedback', port=DummyPort(name='i1', offset=0.0, lo_frequency=0, lo_power=0, gain=0, attenuation=0, power_range=0, filters=None), local_oscillator=None, max_offset=None), twpa=None, drive=Channel(name='drive', port=DummyPort(name='o2', offset=0.0, lo_frequency=0, lo_power=0, gain=0, attenuation=0, power_range=0, filters=None), local_oscillator=None, max_offset=None), _flux=None, native_gates=SingleQubitNatives(RX=NativePulse(name='RX', duration=40, amplitude=0.005, shape='Rectangular()', pulse_type=<PulseType.DRIVE: 'qd'>, qubit=..., frequency=4500000000, relative_start=0, if_frequency=None, start=0, phase=0), RX12=None, MZ=NativePulse(name='MZ', duration=1000, amplitude=0.005, shape='Rectangular()', pulse_type=<PulseType.READOUT: 'ro'>, qubit=..., frequency=7000000000, relative_start=0, if_frequency=None, start=0, phase=0)))"
      ]
     },
     "execution_count": 12,
     "metadata": {},
     "output_type": "execute_result"
    }
   ],
   "source": [
    "platform.qubits[0]"
   ]
  },
  {
   "attachments": {},
   "cell_type": "markdown",
   "metadata": {},
   "source": [
    "## Execute"
   ]
  },
  {
   "cell_type": "code",
   "execution_count": 13,
   "metadata": {},
   "outputs": [
    {
     "name": "stderr",
     "output_type": "stream",
     "text": [
      "[Qibo 0.2.4|INFO|2024-02-05 16:24:41]: Minimal execution time (sequence): 0.101\n"
     ]
    },
    {
     "name": "stdout",
     "output_type": "stream",
     "text": [
      "0 <qibolab.result.SampleResults object at 0x747d81a0bf90>\n",
      "ReadoutPulse(0, 1000, 0.005, 7_000_000_000, 0, Rectangular(), readout, 0) <qibolab.result.SampleResults object at 0x747d81a0bf90>\n"
     ]
    }
   ],
   "source": [
    "sequence = PulseSequence()\n",
    "ro_pulse = platform.create_MZ_pulse(qubit=0, start=0)\n",
    "sequence.add(ro_pulse)\n",
    "\n",
    "options = ExecutionParameters(\n",
    "    nshots=1000,\n",
    "    relaxation_time=100000,\n",
    "    acquisition_type=AcquisitionType.DISCRIMINATION,\n",
    "    averaging_mode=AveragingMode.SINGLESHOT\n",
    "\n",
    ")\n",
    "results = platform.execute_pulse_sequence(sequence, options)\n",
    "\n",
    "\n",
    "for key, value in results.items():\n",
    "    print(key, value)\n"
   ]
  },
  {
   "cell_type": "code",
   "execution_count": 14,
   "metadata": {},
   "outputs": [
    {
     "name": "stdout",
     "output_type": "stream",
     "text": [
      "(1000,)\n"
     ]
    }
   ],
   "source": [
    "print(results[ro_pulse.serial].samples.shape)"
   ]
  },
  {
   "attachments": {},
   "cell_type": "markdown",
   "metadata": {},
   "source": [
    "## Sweep"
   ]
  },
  {
   "cell_type": "code",
   "execution_count": 21,
   "metadata": {},
   "outputs": [
    {
     "name": "stderr",
     "output_type": "stream",
     "text": [
      "[Qibo 0.2.4|INFO|2024-02-05 16:26:57]: Minimal execution time (sweep): 0.8\n"
     ]
    },
    {
     "data": {
      "text/plain": [
       "(400,)"
      ]
     },
     "execution_count": 21,
     "metadata": {},
     "output_type": "execute_result"
    }
   ],
   "source": [
    "sequence = PulseSequence()\n",
    "ro_pulse = platform.create_MZ_pulse(qubit=0, start=0)\n",
    "sequence.add(ro_pulse)\n",
    "\n",
    "sweeper = Sweeper(\n",
    "    parameter=Parameter.frequency,\n",
    "    values=np.arange(-2e8, +2e8, 1e6),\n",
    "    pulses=[ro_pulse],\n",
    "    type=SweeperType.OFFSET,\n",
    ")\n",
    "\n",
    "options = ExecutionParameters(\n",
    "    nshots=1000,\n",
    "    relaxation_time=1000,\n",
    "    acquisition_type=AcquisitionType.INTEGRATION,\n",
    "    averaging_mode=AveragingMode.CYCLIC\n",
    ")\n",
    "results = platform.sweep(sequence, options, sweeper)\n",
    "\n",
    "results[ro_pulse.serial].voltage_i.shape"
   ]
  },
  {
   "attachments": {},
   "cell_type": "markdown",
   "metadata": {},
   "source": [
    "## Sequence unrolling"
   ]
  },
  {
   "cell_type": "code",
   "execution_count": 25,
   "metadata": {},
   "outputs": [
    {
     "name": "stderr",
     "output_type": "stream",
     "text": [
      "[Qibo 0.2.4|INFO|2024-02-05 16:30:37]: Loading platform myplatform\n",
      "[Qibo 0.2.4|INFO|2024-02-05 16:30:37]: Minimal execution time (unrolling): 2.02\n"
     ]
    },
    {
     "data": {
      "text/plain": [
       "[<qibolab.result.SampleResults at 0x747d588bd410>,\n",
       " <qibolab.result.SampleResults at 0x747d588bde10>,\n",
       " <qibolab.result.SampleResults at 0x747d588bd4d0>,\n",
       " <qibolab.result.SampleResults at 0x747d588bdc50>,\n",
       " <qibolab.result.SampleResults at 0x747d588bd290>,\n",
       " <qibolab.result.SampleResults at 0x747d588bd390>,\n",
       " <qibolab.result.SampleResults at 0x747d588bcfd0>,\n",
       " <qibolab.result.SampleResults at 0x747d588bd750>,\n",
       " <qibolab.result.SampleResults at 0x747d588bd610>,\n",
       " <qibolab.result.SampleResults at 0x747d588bdf50>,\n",
       " <qibolab.result.SampleResults at 0x747d58839650>,\n",
       " <qibolab.result.SampleResults at 0x747d5881e910>,\n",
       " <qibolab.result.SampleResults at 0x747d58875910>,\n",
       " <qibolab.result.SampleResults at 0x747d588bd850>,\n",
       " <qibolab.result.SampleResults at 0x747d588bd950>,\n",
       " <qibolab.result.SampleResults at 0x747d588bdad0>,\n",
       " <qibolab.result.SampleResults at 0x747d588bd690>,\n",
       " <qibolab.result.SampleResults at 0x747d588bded0>,\n",
       " <qibolab.result.SampleResults at 0x747d588bdf10>,\n",
       " <qibolab.result.SampleResults at 0x747d588bde50>]"
      ]
     },
     "execution_count": 25,
     "metadata": {},
     "output_type": "execute_result"
    }
   ],
   "source": [
    "platform = create_platform(\"myplatform\")\n",
    "\n",
    "nsequences = 20\n",
    "sequences = []\n",
    "for _ in range(nsequences):\n",
    "    sequence = PulseSequence()\n",
    "    sequence.add(platform.create_MZ_pulse(qubit=0, start=sequence.finish))\n",
    "    sequences.append(sequence)\n",
    "\n",
    "options = ExecutionParameters(\n",
    "    nshots=1000,\n",
    "    relaxation_time=100000,\n",
    "    acquisition_type=AcquisitionType.DISCRIMINATION,\n",
    "    averaging_mode=AveragingMode.SINGLESHOT,\n",
    ")\n",
    "results = platform.execute_pulse_sequences(sequences, options)\n",
    "\n",
    "results[ro_pulse.serial]"
   ]
  },
  {
   "cell_type": "code",
   "execution_count": 26,
   "metadata": {},
   "outputs": [
    {
     "data": {
      "text/plain": [
       "20"
      ]
     },
     "execution_count": 26,
     "metadata": {},
     "output_type": "execute_result"
    }
   ],
   "source": [
    "len(results[ro_pulse.serial])"
   ]
  },
  {
   "cell_type": "code",
   "execution_count": 27,
   "metadata": {},
   "outputs": [
    {
     "data": {
      "text/plain": [
       "(1000,)"
      ]
     },
     "execution_count": 27,
     "metadata": {},
     "output_type": "execute_result"
    }
   ],
   "source": [
    "results[ro_pulse.serial][0].samples.shape"
   ]
  },
  {
   "cell_type": "code",
   "execution_count": null,
   "metadata": {},
   "outputs": [],
   "source": []
  }
 ],
 "metadata": {
  "kernelspec": {
   "display_name": "qibolab",
   "language": "python",
   "name": "python3"
  },
  "language_info": {
   "codemirror_mode": {
    "name": "ipython",
    "version": 3
   },
   "file_extension": ".py",
   "mimetype": "text/x-python",
   "name": "python",
   "nbconvert_exporter": "python",
   "pygments_lexer": "ipython3",
   "version": "3.11.6"
  },
  "orig_nbformat": 4
 },
 "nbformat": 4,
 "nbformat_minor": 2
}
